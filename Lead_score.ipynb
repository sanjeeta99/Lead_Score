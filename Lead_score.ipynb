{
 "cells": [
  {
   "cell_type": "markdown",
   "id": "f4c7e9c3",
   "metadata": {},
   "source": [
    "# Lead Scoring Case Study\n"
   ]
  },
  {
   "cell_type": "markdown",
   "id": "c8a0a6a2",
   "metadata": {},
   "source": [
    "### Step 1: importing the packages and dataset"
   ]
  },
  {
   "cell_type": "code",
   "execution_count": 5,
   "id": "ce297cd7",
   "metadata": {},
   "outputs": [],
   "source": [
    "# importing the packages\n",
    "import pandas as pd, numpy as np"
   ]
  },
  {
   "cell_type": "code",
   "execution_count": null,
   "id": "1e570bf8",
   "metadata": {},
   "outputs": [],
   "source": [
    "Lead_data = pd.read_csv()"
   ]
  }
 ],
 "metadata": {
  "celltoolbar": "Raw Cell Format",
  "kernelspec": {
   "display_name": "Python 3 (ipykernel)",
   "language": "python",
   "name": "python3"
  },
  "language_info": {
   "codemirror_mode": {
    "name": "ipython",
    "version": 3
   },
   "file_extension": ".py",
   "mimetype": "text/x-python",
   "name": "python",
   "nbconvert_exporter": "python",
   "pygments_lexer": "ipython3",
   "version": "3.9.13"
  }
 },
 "nbformat": 4,
 "nbformat_minor": 5
}
